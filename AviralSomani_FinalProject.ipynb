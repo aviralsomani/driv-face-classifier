{
  "nbformat": 4,
  "nbformat_minor": 0,
  "metadata": {
    "colab": {
      "name": "AviralSomani_FinalProject.ipynb",
      "provenance": [],
      "collapsed_sections": [],
      "authorship_tag": "ABX9TyPeoPKjLsg8TQ0tthxIh5BG",
      "include_colab_link": true
    },
    "kernelspec": {
      "name": "python3",
      "display_name": "Python 3"
    },
    "accelerator": "GPU"
  },
  "cells": [
    {
      "cell_type": "markdown",
      "metadata": {
        "id": "view-in-github",
        "colab_type": "text"
      },
      "source": [
        "<a href=\"https://colab.research.google.com/github/aviralsomani/driv-face-classifier/blob/master/AviralSomani_FinalProject.ipynb\" target=\"_parent\"><img src=\"https://colab.research.google.com/assets/colab-badge.svg\" alt=\"Open In Colab\"/></a>"
      ]
    },
    {
      "cell_type": "code",
      "metadata": {
        "id": "_ls9-R9NM6eg",
        "colab_type": "code",
        "outputId": "01a77f45-348a-4f27-a4ed-d11864dafe1d",
        "colab": {
          "base_uri": "https://localhost:8080/",
          "height": 170
        }
      },
      "source": [
        "!pip install wget"
      ],
      "execution_count": 0,
      "outputs": [
        {
          "output_type": "stream",
          "text": [
            "Collecting wget\n",
            "  Downloading https://files.pythonhosted.org/packages/47/6a/62e288da7bcda82b935ff0c6cfe542970f04e29c756b0e147251b2fb251f/wget-3.2.zip\n",
            "Building wheels for collected packages: wget\n",
            "  Building wheel for wget (setup.py) ... \u001b[?25l\u001b[?25hdone\n",
            "  Created wheel for wget: filename=wget-3.2-cp36-none-any.whl size=9682 sha256=d24e8cec0d98b1bf2034c45bc1a2bd45eb66c79ee24e02e3cd1ed0473fb13b28\n",
            "  Stored in directory: /root/.cache/pip/wheels/40/15/30/7d8f7cea2902b4db79e3fea550d7d7b85ecb27ef992b618f3f\n",
            "Successfully built wget\n",
            "Installing collected packages: wget\n",
            "Successfully installed wget-3.2\n"
          ],
          "name": "stdout"
        }
      ]
    },
    {
      "cell_type": "code",
      "metadata": {
        "id": "LR_lIh2eJRq2",
        "colab_type": "code",
        "outputId": "75ce9f75-6c30-4078-88b2-4858ffa4d17a",
        "colab": {
          "base_uri": "https://localhost:8080/",
          "height": 34
        }
      },
      "source": [
        "import wget\n",
        "import os\n",
        "from zipfile import PyZipFile\n",
        "import shutil\n",
        "import glob\n",
        "import pandas as pd\n",
        "import tensorflow as tf\n",
        "from keras.backend.tensorflow_backend import set_session\n",
        "config = tf.compat.v1.ConfigProto()\n",
        "config.gpu_options.allow_growth = True\n",
        "config.log_device_placement = True\n",
        "\n",
        "tmp_dir = 'data/tmp'\n",
        "img_dir = 'data/img'\n",
        "trn_dir = 'data/trn'\n",
        "val_dir = 'data/val'\n",
        "uci_url = 'https://archive.ics.uci.edu/ml/machine-learning-databases/00378/DrivFace.zip'"
      ],
      "execution_count": 0,
      "outputs": [
        {
          "output_type": "stream",
          "text": [
            "Using TensorFlow backend.\n"
          ],
          "name": "stderr"
        }
      ]
    },
    {
      "cell_type": "code",
      "metadata": {
        "id": "dE-uCsCfczFZ",
        "colab_type": "code",
        "outputId": "1e25670e-c416-4422-b75b-2369d69b15d0",
        "colab": {
          "base_uri": "https://localhost:8080/",
          "height": 34
        }
      },
      "source": [
        "tf.test.gpu_device_name()"
      ],
      "execution_count": 0,
      "outputs": [
        {
          "output_type": "execute_result",
          "data": {
            "text/plain": [
              "'/device:GPU:0'"
            ]
          },
          "metadata": {
            "tags": []
          },
          "execution_count": 3
        }
      ]
    },
    {
      "cell_type": "code",
      "metadata": {
        "id": "cAWX8yz1J9u1",
        "colab_type": "code",
        "colab": {}
      },
      "source": [
        "def load_data():\n",
        "  if not os.path.exists(img_dir):\n",
        "    os.makedirs(tmp_dir)\n",
        "    os.makedirs(img_dir)\n",
        "    print(\"Downloading dataset to \"+ tmp_dir)\n",
        "    file = wget.download(uci_url, out=tmp_dir)\n",
        "    print(\"\\nUnzipping the files..\")\n",
        "    pzf = PyZipFile(file)\n",
        "    pzf.extractall(tmp_dir)\n",
        "    pzf = PyZipFile(tmp_dir + '/DrivFace/DrivImages.zip')\n",
        "    pzf.extractall(tmp_dir)\n",
        "    print(\"Moving files to \" + img_dir)\n",
        "    for file in os.listdir(tmp_dir + '/DrivImages'):\n",
        "      shutil.move(tmp_dir+'/DrivImages/'+file, img_dir+'/'+file)\n",
        "    shutil.move(tmp_dir + '/DrivFace/drivPoints.txt', img_dir + '/drivPoints.txt')\n",
        "    shutil.rmtree(tmp_dir)"
      ],
      "execution_count": 0,
      "outputs": []
    },
    {
      "cell_type": "code",
      "metadata": {
        "id": "KM0eow2XKBpz",
        "colab_type": "code",
        "colab": {}
      },
      "source": [
        "def move_train_val(train_dir, validation_dir, files, ratio):\n",
        "  ind = 0\n",
        "  for fname in files:\n",
        "    src = os.path.join(img_dir, fname + '.jpg')\n",
        "    t_dest = os.path.join(train_dir, fname + '')\n",
        "    ind = ind + 1\n",
        "    if ind < len(files)*ratio:\n",
        "      shutil.move(os.path.join(img_dir, fname + '.jpg'),\n",
        "                  os.path.join(train_dir, fname + '.jpg'))\n",
        "    else:\n",
        "      shutil.move(os.path.join(img_dir, fname + '.jpg'),\n",
        "                  os.path.join(validation_dir, fname + '.jpg'))"
      ],
      "execution_count": 0,
      "outputs": []
    },
    {
      "cell_type": "code",
      "metadata": {
        "id": "da8Rg51QeCiR",
        "colab_type": "code",
        "colab": {}
      },
      "source": [
        "import matplotlib.pyplot as plt\n",
        "def showPlots(hist):\n",
        "  acc = hist.history['acc']\n",
        "  val_acc = hist.history['val_acc']\n",
        "  loss = hist.history['loss']\n",
        "  val_loss = hist.history['val_loss']\n",
        "  plt.ylim(0, 1)\n",
        "  epochs = range(1, len(acc) + 1)\n",
        "  plt.plot(epochs, val_acc, 'b', label='Validation Accuracy')\n",
        "  plt.plot(epochs, acc, 'bo', label='Training Accuracy')\n",
        "  plt.title('Training and Validation Accuracy')\n",
        "  plt.legend()\n",
        "\n",
        "  plt.figure()\n",
        "\n",
        "  plt.plot(epochs, val_loss, 'b', label='Validation loss')\n",
        "  plt.plot(epochs, loss, 'bo', label='Training loss')\n",
        "  plt.title('Training and validation loss')\n",
        "  plt.legend()\n",
        "\n",
        "  plt.show()\n"
      ],
      "execution_count": 0,
      "outputs": []
    },
    {
      "cell_type": "code",
      "metadata": {
        "id": "UY3Y_mEQR1-h",
        "colab_type": "code",
        "colab": {}
      },
      "source": [
        "def split_data(img_dir, trn_dir, val_dir, ratio):\n",
        "  if not os.path.exists(trn_dir):\n",
        "    os.makedirs(trn_dir)\n",
        "    os.makedirs(val_dir)\n",
        "    tff_dir = os.path.join(trn_dir, 'ff')\n",
        "    tll_dir = os.path.join(trn_dir, 'll')\n",
        "    tlr_dir = os.path.join(trn_dir, 'lr')\n",
        "    os.makedirs(tff_dir)\n",
        "    os.makedirs(tll_dir)\n",
        "    os.makedirs(tlr_dir)\n",
        "    vff_dir = os.path.join(val_dir, 'ff')\n",
        "    vll_dir = os.path.join(val_dir, 'll')\n",
        "    vlr_dir = os.path.join(val_dir, 'lr')\n",
        "    os.makedirs(vff_dir)\n",
        "    os.makedirs(vll_dir)\n",
        "    os.makedirs(vlr_dir)\n",
        "    df = pd.read_csv(img_dir + '/drivPoints.txt')['fileName']\n",
        "    ff = [f for f in df if 'f' in f]\n",
        "    ll = [f for f in df if 'll' in f]\n",
        "    lr = [f for f in df if 'lr' in f]\n",
        "    ind = 0\n",
        "    move_train_val(tff_dir, vff_dir, ff, ratio)\n",
        "    move_train_val(tll_dir, vll_dir, ll, ratio)\n",
        "    move_train_val(tlr_dir, vlr_dir, lr, ratio)"
      ],
      "execution_count": 0,
      "outputs": []
    },
    {
      "cell_type": "code",
      "metadata": {
        "id": "KGDqXm-SSVmI",
        "colab_type": "code",
        "outputId": "1974468b-293b-47d0-95d5-dc3b4b6f708d",
        "colab": {
          "base_uri": "https://localhost:8080/",
          "height": 85
        }
      },
      "source": [
        "load_data()"
      ],
      "execution_count": 0,
      "outputs": [
        {
          "output_type": "stream",
          "text": [
            "Downloading dataset to data/tmp\n",
            "\n",
            "Unzipping the files..\n",
            "Moving files to data/img\n"
          ],
          "name": "stdout"
        }
      ]
    },
    {
      "cell_type": "code",
      "metadata": {
        "id": "3Muj5tFDVlZt",
        "colab_type": "code",
        "colab": {}
      },
      "source": [
        "split_data(img_dir, trn_dir, val_dir, ratio=0.8)"
      ],
      "execution_count": 0,
      "outputs": []
    },
    {
      "cell_type": "code",
      "metadata": {
        "id": "uVXel55yYJey",
        "colab_type": "code",
        "colab": {}
      },
      "source": [
        "from keras import layers\n",
        "from keras import models"
      ],
      "execution_count": 0,
      "outputs": []
    },
    {
      "cell_type": "code",
      "metadata": {
        "id": "rPIPeQrGYOc5",
        "colab_type": "code",
        "colab": {}
      },
      "source": [
        "model = models.Sequential()\n",
        "model.add(layers.Conv2D(64, (3, 3), activation='relu', \n",
        "                        padding='same', \n",
        "                        input_shape=(64, 64, 3)))\n",
        "model.add(layers.Conv2D(128, (3, 3), activation='relu', \n",
        "                        padding='same'))\n",
        "model.add(layers.MaxPooling2D((2,2)))\n",
        "model.add(layers.Conv2D(256, (3,3), activation='relu',\n",
        "                        padding='same'))\n",
        "model.add(layers.MaxPooling2D(2,2))\n",
        "model.add(layers.Flatten())\n",
        "model.add(layers.Dense(256, activation='relu'))\n",
        "model.add(layers.Dropout(0.5))\n",
        "model.add(layers.Dense(128, activation='relu'))\n",
        "model.add(layers.Dense(3, activation='softmax'))"
      ],
      "execution_count": 0,
      "outputs": []
    },
    {
      "cell_type": "code",
      "metadata": {
        "id": "JTk5PNBtaJyh",
        "colab_type": "code",
        "outputId": "64ba4624-cb89-44a2-805a-435d5ce5a82c",
        "colab": {
          "base_uri": "https://localhost:8080/",
          "height": 493
        }
      },
      "source": [
        "model.summary()"
      ],
      "execution_count": 0,
      "outputs": [
        {
          "output_type": "stream",
          "text": [
            "Model: \"sequential_1\"\n",
            "_________________________________________________________________\n",
            "Layer (type)                 Output Shape              Param #   \n",
            "=================================================================\n",
            "conv2d_1 (Conv2D)            (None, 64, 64, 64)        1792      \n",
            "_________________________________________________________________\n",
            "conv2d_2 (Conv2D)            (None, 64, 64, 128)       73856     \n",
            "_________________________________________________________________\n",
            "max_pooling2d_1 (MaxPooling2 (None, 32, 32, 128)       0         \n",
            "_________________________________________________________________\n",
            "conv2d_3 (Conv2D)            (None, 32, 32, 256)       295168    \n",
            "_________________________________________________________________\n",
            "max_pooling2d_2 (MaxPooling2 (None, 16, 16, 256)       0         \n",
            "_________________________________________________________________\n",
            "flatten_1 (Flatten)          (None, 65536)             0         \n",
            "_________________________________________________________________\n",
            "dense_1 (Dense)              (None, 256)               16777472  \n",
            "_________________________________________________________________\n",
            "dropout_1 (Dropout)          (None, 256)               0         \n",
            "_________________________________________________________________\n",
            "dense_2 (Dense)              (None, 128)               32896     \n",
            "_________________________________________________________________\n",
            "dense_3 (Dense)              (None, 3)                 387       \n",
            "=================================================================\n",
            "Total params: 17,181,571\n",
            "Trainable params: 17,181,571\n",
            "Non-trainable params: 0\n",
            "_________________________________________________________________\n"
          ],
          "name": "stdout"
        }
      ]
    },
    {
      "cell_type": "code",
      "metadata": {
        "id": "s03Lt-rdaaPW",
        "colab_type": "code",
        "colab": {}
      },
      "source": [
        "from keras import optimizers\n",
        "\n",
        "model.compile(loss='categorical_crossentropy',\n",
        "              optimizer=optimizers.Adam(),\n",
        "              metrics=['acc'])"
      ],
      "execution_count": 0,
      "outputs": []
    },
    {
      "cell_type": "code",
      "metadata": {
        "id": "cGXOtwL5am5P",
        "colab_type": "code",
        "outputId": "3c41eb45-05d2-4259-822f-105b3f9b8655",
        "colab": {
          "base_uri": "https://localhost:8080/",
          "height": 51
        }
      },
      "source": [
        "from keras.preprocessing.image import ImageDataGenerator\n",
        "\n",
        "tr_dgen = ImageDataGenerator(rescale=1./255)\n",
        "vl_dgen = ImageDataGenerator(rescale=1./255)\n",
        "tr_gen = tr_dgen.flow_from_directory(trn_dir, target_size=(64, 64),\n",
        "                                     batch_size=20, class_mode='categorical')\n",
        "\n",
        "vl_gen = vl_dgen.flow_from_directory(val_dir, target_size=(64, 64),\n",
        "                                     batch_size=20, class_mode='categorical')"
      ],
      "execution_count": 0,
      "outputs": [
        {
          "output_type": "stream",
          "text": [
            "Found 483 images belonging to 3 classes.\n",
            "Found 123 images belonging to 3 classes.\n"
          ],
          "name": "stdout"
        }
      ]
    },
    {
      "cell_type": "code",
      "metadata": {
        "id": "hKgg_rvAbS8B",
        "colab_type": "code",
        "outputId": "713210d3-a81d-4fc2-9ffc-05b6e4b4311b",
        "colab": {
          "base_uri": "https://localhost:8080/",
          "height": 425
        }
      },
      "source": [
        "hist = model.fit_generator(\n",
        "    tr_gen,\n",
        "    steps_per_epoch=100,\n",
        "    epochs=30,\n",
        "    validation_data=vl_gen,\n",
        "    validation_steps=50)"
      ],
      "execution_count": 0,
      "outputs": [
        {
          "output_type": "stream",
          "text": [
            "Epoch 1/12\n",
            "100/100 [==============================] - 19s 193ms/step - loss: 0.3890 - acc: 0.8934 - val_loss: 0.8073 - val_acc: 0.8956\n",
            "Epoch 2/12\n",
            "100/100 [==============================] - 13s 128ms/step - loss: 0.2325 - acc: 0.9224 - val_loss: 1.8752 - val_acc: 0.5040\n",
            "Epoch 3/12\n",
            "100/100 [==============================] - 13s 125ms/step - loss: 0.1253 - acc: 0.9524 - val_loss: 0.7369 - val_acc: 0.6027\n",
            "Epoch 4/12\n",
            "100/100 [==============================] - 12s 125ms/step - loss: 0.0775 - acc: 0.9715 - val_loss: 0.5503 - val_acc: 0.7185\n",
            "Epoch 5/12\n",
            "100/100 [==============================] - 13s 126ms/step - loss: 0.0435 - acc: 0.9808 - val_loss: 1.9541 - val_acc: 0.6663\n",
            "Epoch 6/12\n",
            "100/100 [==============================] - 13s 127ms/step - loss: 0.0343 - acc: 0.9876 - val_loss: 1.3207 - val_acc: 0.6652\n",
            "Epoch 7/12\n",
            "100/100 [==============================] - 13s 126ms/step - loss: 0.0295 - acc: 0.9928 - val_loss: 1.3079 - val_acc: 0.7801\n",
            "Epoch 8/12\n",
            "100/100 [==============================] - 13s 127ms/step - loss: 0.0168 - acc: 0.9948 - val_loss: 2.4275 - val_acc: 0.6810\n",
            "Epoch 9/12\n",
            "100/100 [==============================] - 13s 127ms/step - loss: 0.0066 - acc: 0.9979 - val_loss: 1.6245 - val_acc: 0.7571\n",
            "Epoch 10/12\n",
            "100/100 [==============================] - 12s 124ms/step - loss: 0.0223 - acc: 0.9912 - val_loss: 3.3083 - val_acc: 0.6413\n",
            "Epoch 11/12\n",
            "100/100 [==============================] - 13s 125ms/step - loss: 0.0058 - acc: 0.9984 - val_loss: 3.2159 - val_acc: 0.7299\n",
            "Epoch 12/12\n",
            "100/100 [==============================] - 13s 127ms/step - loss: 0.0034 - acc: 0.9990 - val_loss: 0.2400 - val_acc: 0.7264\n"
          ],
          "name": "stdout"
        }
      ]
    },
    {
      "cell_type": "code",
      "metadata": {
        "id": "JXJTzgIcbf9m",
        "colab_type": "code",
        "outputId": "ee615708-1154-4f25-bec4-63ddcce1b8db",
        "colab": {
          "base_uri": "https://localhost:8080/",
          "height": 545
        }
      },
      "source": [
        "showPlots(hist)"
      ],
      "execution_count": 0,
      "outputs": [
        {
          "output_type": "display_data",
          "data": {
            "image/png": "[encoded data removed]",
            "text/plain": [
              "<Figure size 432x288 with 1 Axes>"
            ]
          },
          "metadata": {
            "tags": [],
            "needs_background": "light"
          }
        },
        {
          "output_type": "display_data",
          "data": {
            "image/png": "[encoded data removed]",
            "text/plain": [
              "<Figure size 432x288 with 1 Axes>"
            ]
          },
          "metadata": {
            "tags": [],
            "needs_background": "light"
          }
        }
      ]
    }
  ]
}